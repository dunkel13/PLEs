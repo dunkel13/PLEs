{
 "cells": [
  {
   "cell_type": "code",
   "execution_count": 2,
   "metadata": {},
   "outputs": [],
   "source": [
    "import random\n",
    "tabla=[]\n",
    "min=1\n",
    "max=6\n",
    "for r in range(3):\n",
    "\ttabla.append([])\n",
    "\tfor t in range(5):\n",
    "\t\ttabla[r].append(random.randint(min,max))"
   ]
  },
  {
   "cell_type": "code",
   "execution_count": 3,
   "metadata": {},
   "outputs": [
    {
     "name": "stdout",
     "output_type": "stream",
     "text": [
      "[3, 2, 1, 6, 5]\n",
      "[6, 5, 5, 2, 5]\n",
      "[4, 1, 2, 4, 4]\n"
     ]
    }
   ],
   "source": [
    "for k in range(3):\n",
    "\tprint(tabla[k])\n",
    "\n",
    "for r in range(3):\n",
    "\ttabla[r].append(0)\n",
    "\tfor t in range(5):\n",
    "\t\ttabla[r][5]=tabla[r][5]+tabla[r][t]"
   ]
  },
  {
   "cell_type": "code",
   "execution_count": 9,
   "metadata": {},
   "outputs": [],
   "source": [
    "vez=[0,0,0]\n",
    "for r in range(3):\n",
    "    for t in range(5):\n",
    "            if tabla[r][t]==6:\n",
    "                    vez[r]=vez[r]+1"
   ]
  },
  {
   "cell_type": "code",
   "execution_count": 10,
   "metadata": {},
   "outputs": [
    {
     "name": "stdout",
     "output_type": "stream",
     "text": [
      "El jugador 1 obtuvo 6 1 vez.\n",
      "Su suma de puntos fue: 17 .\n",
      "\n",
      "El jugador 2 obtuvo 6 1 vez.\n",
      "Su suma de puntos fue: 23 .\n",
      "\n",
      "El jugador 3 no obtuvo 6\n",
      "Su suma de puntos fue: 15 .\n",
      "\n"
     ]
    }
   ],
   "source": [
    "for r in range(3):\n",
    "\tif(vez[r]==1):\n",
    "\t\tprint(\"El jugador\", r+1,\"obtuvo 6\",vez[r],\"vez.\")\n",
    "\telif(vez[r]>=2):\n",
    "\t\tprint(\"El jugador\", r+1, \"obtuvo 6\", vez[r], \"veces.\")\n",
    "\telif(vez[r]==0):\n",
    "\t\tprint(\"El jugador\", r+1,\"no obtuvo 6\")\n",
    "\tprint(\"Su suma de puntos fue:\",tabla[r][5],\".\")\n",
    "\tprint()"
   ]
  },
  {
   "cell_type": "code",
   "execution_count": 12,
   "metadata": {},
   "outputs": [
    {
     "name": "stdout",
     "output_type": "stream",
     "text": [
      "Dame un número entero: \n",
      "5\n",
      "El factorial del número 5 es 120\n"
     ]
    }
   ],
   "source": [
    "def factorial(n):\n",
    "    fact=1\n",
    "    for k in range(2,n+1):\n",
    "            fact=fact*k\n",
    "    return fact\n",
    "\n",
    "numero=int(input(\"Dame un número entero: \\n\"))\n",
    "factor=factorial(numero)\n",
    "print(\"El factorial del número\", numero, \"es\", factor)"
   ]
  },
  {
   "cell_type": "code",
   "execution_count": 15,
   "metadata": {},
   "outputs": [
    {
     "name": "stdout",
     "output_type": "stream",
     "text": [
      "44.7435030665022\n",
      "67.88755458690866\n",
      "37.834686104075175\n",
      "73.08989314414563\n",
      "21.716894133544933\n",
      "42.87215090983587\n",
      "36.80763150772528\n",
      "69.69180102330108\n",
      "13.75677651198646\n",
      "68.54485723476998\n"
     ]
    }
   ],
   "source": [
    "import random\n",
    "x=random.random()\n",
    "x2=random.randint(1,4)\n",
    "for k in range(10):\n",
    "    x=random.random()*(76-10)+10\n",
    "    print(x)"
   ]
  },
  {
   "cell_type": "code",
   "execution_count": 16,
   "metadata": {},
   "outputs": [
    {
     "name": "stdout",
     "output_type": "stream",
     "text": [
      "16\n",
      "64\n",
      "44\n",
      "73\n",
      "22\n",
      "62\n",
      "38\n",
      "26\n",
      "14\n",
      "31\n"
     ]
    }
   ],
   "source": [
    "for i in range(10):\n",
    "    x=random.randint(10,76)\n",
    "    print(x)"
   ]
  },
  {
   "cell_type": "code",
   "execution_count": 26,
   "metadata": {},
   "outputs": [],
   "source": [
    "def mayor(n,x):\n",
    "    mayor=0\n",
    "    for k in range(n):\n",
    "        if x[k]>mayor:\n",
    "            mayor=x[k]\n",
    "    return mayor"
   ]
  },
  {
   "cell_type": "code",
   "execution_count": 51,
   "metadata": {},
   "outputs": [
    {
     "name": "stdout",
     "output_type": "stream",
     "text": [
      "[1, 2, 3, 4, 7]\n"
     ]
    }
   ],
   "source": [
    "x=[1,2,3,4,7]\n",
    "print(x)"
   ]
  },
  {
   "cell_type": "code",
   "execution_count": 52,
   "metadata": {},
   "outputs": [
    {
     "data": {
      "text/plain": [
       "7"
      ]
     },
     "execution_count": 52,
     "metadata": {},
     "output_type": "execute_result"
    }
   ],
   "source": [
    "mayor(5,x)"
   ]
  },
  {
   "cell_type": "code",
   "execution_count": 30,
   "metadata": {},
   "outputs": [],
   "source": [
    "def promedio(n,x):\n",
    "    suma=0\n",
    "    for k in range(n):\n",
    "        suma=suma+x[k]\n",
    "        promedio=suma/n\n",
    "    return promedio"
   ]
  },
  {
   "cell_type": "code",
   "execution_count": 43,
   "metadata": {},
   "outputs": [
    {
     "name": "stdout",
     "output_type": "stream",
     "text": [
      "Cotizacion del dolar del dia \n",
      " 1\n",
      "0\n",
      "3210\n",
      "Cotizacion del dolar del dia \n",
      " 2\n",
      "0\n",
      "3078\n",
      "Cotizacion del dolar del dia \n",
      " 3\n",
      "0\n",
      "2948\n",
      "Cotizacion del dolar del dia \n",
      " 4\n",
      "0\n",
      "3125\n",
      "Cotizacion del dolar del dia \n",
      " 5\n",
      "0\n",
      "3123\n",
      "Cotizacion del euro del dia \n",
      " 1\n",
      "0\n",
      "3600\n",
      "Cotizacion del euro del dia \n",
      " 2\n",
      "0\n",
      "3865\n",
      "Cotizacion del euro del dia \n",
      " 3\n",
      "0\n",
      "3854\n",
      "Cotizacion del euro del dia \n",
      " 4\n",
      "0\n",
      "3900\n",
      "Cotizacion del euro del dia \n",
      " 5\n",
      "0\n",
      "4029\n"
     ]
    }
   ],
   "source": [
    "semana=[\"lunes\",\"martes\",\"miercoles\",\"jueves\",\"viernes\"]\n",
    "moneda=[[],[]]\n",
    "for k in range(2):\n",
    "    for dia in range(5):\n",
    "        if k==0:\n",
    "            print(\"Cotizacion del dolar del dia \\n\",dia+1)\n",
    "            float(input())\n",
    "            moneda[k]+=[float(input())]\n",
    "        else:\n",
    "            print(\"Cotizacion del euro del dia \\n\",dia+1)\n",
    "            float(input())\n",
    "            moneda[k]+=[float(input())]"
   ]
  },
  {
   "cell_type": "code",
   "execution_count": 44,
   "metadata": {},
   "outputs": [
    {
     "data": {
      "text/plain": [
       "[[3210.0, 3078.0, 2948.0, 3125.0, 3123.0],\n",
       " [3600.0, 3865.0, 3854.0, 3900.0, 4029.0]]"
      ]
     },
     "execution_count": 44,
     "metadata": {},
     "output_type": "execute_result"
    }
   ],
   "source": [
    "moneda"
   ]
  },
  {
   "cell_type": "code",
   "execution_count": 49,
   "metadata": {},
   "outputs": [
    {
     "name": "stdout",
     "output_type": "stream",
     "text": [
      "3096.8\n",
      "3849.6\n",
      "3210.0\n",
      "4029.0\n"
     ]
    }
   ],
   "source": [
    "n=5\n",
    "prom_dol=promedio(n,moneda[0])\n",
    "prom_euro=promedio(n,moneda[1])\n",
    "max_dol=mayor(n,moneda[0])\n",
    "max_euro=mayor(n,moneda[1])\n",
    "print(prom_dol)\n",
    "print(prom_euro)\n",
    "print(max_dol)\n",
    "print(max_euro)"
   ]
  }
 ],
 "metadata": {
  "kernelspec": {
   "display_name": "Python 3",
   "language": "python",
   "name": "python3"
  },
  "language_info": {
   "codemirror_mode": {
    "name": "ipython",
    "version": 3
   },
   "file_extension": ".py",
   "mimetype": "text/x-python",
   "name": "python",
   "nbconvert_exporter": "python",
   "pygments_lexer": "ipython3",
   "version": "3.6.8"
  }
 },
 "nbformat": 4,
 "nbformat_minor": 2
}
