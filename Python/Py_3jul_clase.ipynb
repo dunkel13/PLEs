{
 "cells": [
  {
   "cell_type": "markdown",
   "metadata": {},
   "source": [
    "# Clase 3/jul"
   ]
  },
  {
   "cell_type": "markdown",
   "metadata": {},
   "source": [
    "## arrays y vectores"
   ]
  },
  {
   "cell_type": "code",
   "execution_count": 1,
   "metadata": {},
   "outputs": [
    {
     "data": {
      "text/plain": [
       "[0, 1, 4, 9, 16]"
      ]
     },
     "execution_count": 1,
     "metadata": {},
     "output_type": "execute_result"
    }
   ],
   "source": [
    "[x**2 for x in range(5)]"
   ]
  },
  {
   "cell_type": "code",
   "execution_count": 2,
   "metadata": {},
   "outputs": [
    {
     "data": {
      "text/plain": [
       "0.8590600537397638"
      ]
     },
     "execution_count": 2,
     "metadata": {},
     "output_type": "execute_result"
    }
   ],
   "source": [
    "import random\n",
    "random.random()"
   ]
  },
  {
   "cell_type": "code",
   "execution_count": 4,
   "metadata": {},
   "outputs": [
    {
     "name": "stdout",
     "output_type": "stream",
     "text": [
      "0.565122551824736\n",
      "0.03765732210919581\n",
      "0.14258158595452186\n",
      "0.2648522966165172\n",
      "0.7572203992199221\n",
      "0.7992009890450604\n",
      "0.0742662147634372\n",
      "0.5466566015587112\n",
      "0.9020154124571019\n",
      "0.6008426782115597\n"
     ]
    }
   ],
   "source": [
    "x=[None]*10\n",
    "for indice in range(10):\n",
    "    x[indice]=random.random()\n",
    "    print(x[indice])"
   ]
  },
  {
   "cell_type": "code",
   "execution_count": 5,
   "metadata": {},
   "outputs": [
    {
     "data": {
      "text/plain": [
       "['0.3', '0.31', '0.314', '0.3142', '0.31416']"
      ]
     },
     "execution_count": 5,
     "metadata": {},
     "output_type": "execute_result"
    }
   ],
   "source": [
    "[str(round(355/1130,i))for i in range(1,6)]"
   ]
  },
  {
   "cell_type": "code",
   "execution_count": 6,
   "metadata": {},
   "outputs": [
    {
     "name": "stdout",
     "output_type": "stream",
     "text": [
      "44\n",
      "50\n",
      "45\n",
      "43\n",
      "54\n",
      "54\n",
      "55\n",
      "44\n",
      "54\n",
      "51\n"
     ]
    }
   ],
   "source": [
    "for indice in range(10):\n",
    "    x[indice]=random.randint(43,55)\n",
    "    print(x[indice])"
   ]
  },
  {
   "cell_type": "code",
   "execution_count": 8,
   "metadata": {},
   "outputs": [
    {
     "name": "stdout",
     "output_type": "stream",
     "text": [
      "67.70884578765533\n",
      "61.99749810215142\n",
      "54.778947804283774\n",
      "71.42591449906898\n",
      "61.05692811418157\n",
      "76.76207192376201\n",
      "71.70350184221579\n",
      "62.964726164891815\n",
      "53.60837103980165\n",
      "55.206474129434724\n"
     ]
    }
   ],
   "source": [
    "Min=50\n",
    "Max=100\n",
    "for indice in range(10):\n",
    "    x[indice]=Min+Max*random.random()%(Max-Min+1)\n",
    "    print(x[indice])"
   ]
  },
  {
   "cell_type": "code",
   "execution_count": 13,
   "metadata": {},
   "outputs": [
    {
     "name": "stdout",
     "output_type": "stream",
     "text": [
      "[53.56601875198748]\n"
     ]
    }
   ],
   "source": [
    "#otra manera es generando el vector\n",
    "x=[]\n",
    "x+=[50+100*random.random()%(51)]\n",
    "print(x)"
   ]
  },
  {
   "cell_type": "code",
   "execution_count": 17,
   "metadata": {},
   "outputs": [
    {
     "name": "stdout",
     "output_type": "stream",
     "text": [
      "102.11811725373826\n",
      "108.4858133074768\n",
      "110.27774088042165\n",
      "118.78400787174849\n",
      "123.1799969958939\n",
      "122.01398796448089\n",
      "126.68939194954574\n",
      "127.07300932015514\n",
      "121.8382390323296\n",
      "125.92819303619252\n"
     ]
    }
   ],
   "source": [
    "Min=100\n",
    "Max=200\n",
    "x=[None]*10\n",
    "for indice in range(10):\n",
    "    x[indice]=Min+Max*random.random()%(30)\n",
    "    print(x[indice])"
   ]
  },
  {
   "cell_type": "code",
   "execution_count": 21,
   "metadata": {},
   "outputs": [
    {
     "name": "stdout",
     "output_type": "stream",
     "text": [
      "\n",
      "102.11811725373826 \n",
      "\n",
      "108.4858133074768 \n",
      "\n",
      "110.27774088042165 \n",
      "\n",
      "118.78400787174849 \n",
      "\n",
      "122.01398796448089 \n",
      "\n",
      "123.1799969958939 \n",
      "\n",
      "126.68939194954574 \n",
      "\n",
      "127.07300932015514 \n",
      "\n",
      "121.8382390323296 \n",
      "\n",
      "125.92819303619252 \n",
      "\n",
      "\n",
      "102.11811725373826 \n",
      "\n",
      "108.4858133074768 \n",
      "\n",
      "110.27774088042165 \n",
      "\n",
      "118.78400787174849 \n",
      "\n",
      "121.8382390323296 \n",
      "\n",
      "123.1799969958939 \n",
      "\n",
      "126.68939194954574 \n",
      "\n",
      "127.07300932015514 \n",
      "\n",
      "122.01398796448089 \n",
      "\n",
      "125.92819303619252 \n",
      "\n",
      "\n",
      "102.11811725373826 \n",
      "\n",
      "108.4858133074768 \n",
      "\n",
      "110.27774088042165 \n",
      "\n",
      "118.78400787174849 \n",
      "\n",
      "121.8382390323296 \n",
      "\n",
      "122.01398796448089 \n",
      "\n",
      "126.68939194954574 \n",
      "\n",
      "127.07300932015514 \n",
      "\n",
      "123.1799969958939 \n",
      "\n",
      "125.92819303619252 \n",
      "\n",
      "\n",
      "102.11811725373826 \n",
      "\n",
      "108.4858133074768 \n",
      "\n",
      "110.27774088042165 \n",
      "\n",
      "118.78400787174849 \n",
      "\n",
      "121.8382390323296 \n",
      "\n",
      "122.01398796448089 \n",
      "\n",
      "123.1799969958939 \n",
      "\n",
      "127.07300932015514 \n",
      "\n",
      "126.68939194954574 \n",
      "\n",
      "125.92819303619252 \n",
      "\n",
      "\n",
      "102.11811725373826 \n",
      "\n",
      "108.4858133074768 \n",
      "\n",
      "110.27774088042165 \n",
      "\n",
      "118.78400787174849 \n",
      "\n",
      "121.8382390323296 \n",
      "\n",
      "122.01398796448089 \n",
      "\n",
      "125.92819303619252 \n",
      "\n",
      "127.07300932015514 \n",
      "\n",
      "126.68939194954574 \n",
      "\n",
      "123.1799969958939 \n",
      "\n",
      "\n",
      "102.11811725373826 \n",
      "\n",
      "108.4858133074768 \n",
      "\n",
      "110.27774088042165 \n",
      "\n",
      "118.78400787174849 \n",
      "\n",
      "121.8382390323296 \n",
      "\n",
      "122.01398796448089 \n",
      "\n",
      "125.92819303619252 \n",
      "\n",
      "126.68939194954574 \n",
      "\n",
      "127.07300932015514 \n",
      "\n",
      "123.1799969958939 \n",
      "\n",
      "\n",
      "102.11811725373826 \n",
      "\n",
      "108.4858133074768 \n",
      "\n",
      "110.27774088042165 \n",
      "\n",
      "118.78400787174849 \n",
      "\n",
      "121.8382390323296 \n",
      "\n",
      "122.01398796448089 \n",
      "\n",
      "125.92819303619252 \n",
      "\n",
      "123.1799969958939 \n",
      "\n",
      "127.07300932015514 \n",
      "\n",
      "126.68939194954574 \n",
      "\n",
      "\n",
      "102.11811725373826 \n",
      "\n",
      "108.4858133074768 \n",
      "\n",
      "110.27774088042165 \n",
      "\n",
      "118.78400787174849 \n",
      "\n",
      "121.8382390323296 \n",
      "\n",
      "122.01398796448089 \n",
      "\n",
      "125.92819303619252 \n",
      "\n",
      "123.1799969958939 \n",
      "\n",
      "126.68939194954574 \n",
      "\n",
      "127.07300932015514 \n",
      "\n"
     ]
    }
   ],
   "source": [
    "#Ordenamiento de un vector aleatorio\n",
    "for paso in range(10):\n",
    "    Min=paso\n",
    "    for i in range(paso,10):\n",
    "        if(x[i]< x[Min]):\n",
    "            Min=i\n",
    "            temp=x[paso]\n",
    "            x[paso]=x[Min]\n",
    "            x[Min]=temp\n",
    "            print()\n",
    "            for j in range(10):\n",
    "                print(x[j],'\\n')"
   ]
  },
  {
   "cell_type": "code",
   "execution_count": 22,
   "metadata": {},
   "outputs": [
    {
     "data": {
      "text/plain": [
       "[102.11811725373826,\n",
       " 108.4858133074768,\n",
       " 110.27774088042165,\n",
       " 118.78400787174849,\n",
       " 121.8382390323296,\n",
       " 122.01398796448089,\n",
       " 125.92819303619252,\n",
       " 123.1799969958939,\n",
       " 126.68939194954574,\n",
       " 127.07300932015514]"
      ]
     },
     "execution_count": 22,
     "metadata": {},
     "output_type": "execute_result"
    }
   ],
   "source": [
    "x"
   ]
  },
  {
   "cell_type": "code",
   "execution_count": 28,
   "metadata": {},
   "outputs": [
    {
     "name": "stdout",
     "output_type": "stream",
     "text": [
      "ingresa un elemento:1\n",
      "ingresa un elemento:2\n",
      "ingresa un elemento:3\n",
      "ingresa un elemento:4\n",
      "ingresa un elemento:5\n",
      "suma 15\n"
     ]
    }
   ],
   "source": [
    "suma=0\n",
    "vector=[None]*5\n",
    "\n",
    "for cont in range(5):\n",
    "    a=input('ingresa un elemento:')\n",
    "    vector[cont]=int(a)\n",
    "    suma=suma+vector[cont]\n",
    "\n",
    "print('suma',suma)"
   ]
  },
  {
   "cell_type": "code",
   "execution_count": 29,
   "metadata": {},
   "outputs": [
    {
     "name": "stdout",
     "output_type": "stream",
     "text": [
      "[1, 2, 3, 4, 5]\n"
     ]
    }
   ],
   "source": [
    "print(vector)"
   ]
  },
  {
   "cell_type": "code",
   "execution_count": 50,
   "metadata": {},
   "outputs": [
    {
     "name": "stdout",
     "output_type": "stream",
     "text": [
      "ingresa un elemento:\n",
      "1\n",
      "ingresa un elemento:\n",
      "2\n",
      "ingresa un elemento:\n",
      "3\n",
      "ingresa un elemento:\n",
      "4\n",
      "ingresa un elemento:\n",
      "5\n",
      "[1, 2, 3, 4, 5]\n",
      "desv 1.4142135623730951\n"
     ]
    }
   ],
   "source": [
    "from math import sqrt\n",
    "var=0\n",
    "suma=0\n",
    "for cont in range(5):\n",
    "    print('ingresa un elemento:')\n",
    "    vector[cont]=int(input())\n",
    "    suma=suma+vector[cont]\n",
    "    \n",
    "pr=suma/5\n",
    "print(vector)\n",
    "\n",
    "for k in range(5):\n",
    "    var=var+pow(vector[k]-pr,2)\n",
    "    \n",
    "var=var/5\n",
    "desv=sqrt(var)\n",
    "    \n",
    "print('desv', desv)"
   ]
  },
  {
   "cell_type": "markdown",
   "metadata": {},
   "source": [
    "## Numpy"
   ]
  },
  {
   "cell_type": "code",
   "execution_count": 46,
   "metadata": {},
   "outputs": [
    {
     "name": "stdout",
     "output_type": "stream",
     "text": [
      "Resultado lista de python\n",
      "56000\n",
      "\n",
      "Resultado Numpy array:\n",
      "8000\n"
     ]
    }
   ],
   "source": [
    "import sys\n",
    "import numpy as np\n",
    "k=range(2000)\n",
    "print('Resultado lista de python')\n",
    "print(sys.getsizeof(5)*len(k))\n",
    "print()\n",
    "U=np.arange(2000)\n",
    "print('Resultado Numpy array:')\n",
    "print(U.size*U.itemsize)"
   ]
  },
  {
   "cell_type": "code",
   "execution_count": 51,
   "metadata": {},
   "outputs": [
    {
     "name": "stdout",
     "output_type": "stream",
     "text": [
      "[[0. 0. 0. 0. 0.]\n",
      " [0. 0. 0. 0. 0.]\n",
      " [0. 0. 0. 0. 0.]\n",
      " [0. 0. 0. 0. 0.]]\n",
      "[[0.27278072 0.540412   0.35342088 0.90430055]\n",
      " [0.23688641 0.31933105 0.51150933 0.56116552]\n",
      " [0.60075806 0.01427362 0.05756435 0.20427799]\n",
      " [0.55200149 0.1431248  0.32167418 0.6504126 ]]\n",
      "[[1. 1. 1.]\n",
      " [1. 1. 1.]\n",
      " [1. 1. 1.]]\n",
      "[[0. 0. 0. 0. 0.]\n",
      " [0. 0. 0. 0. 0.]\n",
      " [0. 0. 0. 0. 0.]\n",
      " [0. 0. 0. 0. 0.]]\n"
     ]
    }
   ],
   "source": [
    "ceros=np.zeros((4,5))\n",
    "print(ceros)\n",
    "aleatorios=np.random.random((4,4))\n",
    "print(aleatorios)\n",
    "uno=np.ones((3,3))\n",
    "print(uno)\n",
    "vacia=np.empty((4,5))\n",
    "print(vacia)"
   ]
  },
  {
   "cell_type": "code",
   "execution_count": 52,
   "metadata": {},
   "outputs": [
    {
     "name": "stdout",
     "output_type": "stream",
     "text": [
      "[[3 3 3 3 3]\n",
      " [3 3 3 3 3]\n",
      " [3 3 3 3 3]\n",
      " [3 3 3 3 3]\n",
      " [3 3 3 3 3]]\n",
      "[ 0 10 20 30 40 50]\n",
      "[ 0.  5. 10. 15. 20.]\n"
     ]
    }
   ],
   "source": [
    "full=np.full((5,5),3)\n",
    "print(full)\n",
    "m1=np.arange(0,60,10)\n",
    "print(m1)\n",
    "m2=np.linspace(0,20,5)\n",
    "print(m2)"
   ]
  },
  {
   "cell_type": "code",
   "execution_count": 55,
   "metadata": {},
   "outputs": [
    {
     "name": "stdout",
     "output_type": "stream",
     "text": [
      "[[1. 0. 0. 0. 0.]\n",
      " [0. 1. 0. 0. 0.]\n",
      " [0. 0. 1. 0. 0.]\n",
      " [0. 0. 0. 1. 0.]\n",
      " [0. 0. 0. 0. 1.]]\n",
      "[[9 8 7]\n",
      " [6 5 4]]\n",
      "2\n"
     ]
    }
   ],
   "source": [
    "identidad0=np.eye(5,5)\n",
    "print(identidad0)\n",
    "t=np.array([(9,8,7),(6,5,4)])\n",
    "print(t)\n",
    "print(t.ndim)"
   ]
  },
  {
   "cell_type": "code",
   "execution_count": 56,
   "metadata": {},
   "outputs": [
    {
     "name": "stdout",
     "output_type": "stream",
     "text": [
      "int32\n",
      "float64\n"
     ]
    }
   ],
   "source": [
    "y=np.array([8,7,6])\n",
    "print(y.dtype)\n",
    "\n",
    "aleatorios=np.random.random((4,4))\n",
    "print(aleatorios.dtype)"
   ]
  },
  {
   "cell_type": "code",
   "execution_count": 62,
   "metadata": {},
   "outputs": [
    {
     "name": "stdout",
     "output_type": "stream",
     "text": [
      "[[9 8 7]\n",
      " [6 5 4]]\n",
      "[[9 8 7]]\n"
     ]
    }
   ],
   "source": [
    "r=np.array([(9,8,7),(6,5,4)])\n",
    "print(r)\n",
    "print(r[0:1]) #print(r[0,:])"
   ]
  },
  {
   "cell_type": "markdown",
   "metadata": {},
   "source": [
    "## plotting"
   ]
  },
  {
   "cell_type": "code",
   "execution_count": 64,
   "metadata": {},
   "outputs": [
    {
     "data": {
      "image/png": "[encoded data removed]",
      "text/plain": [
       "<Figure size 432x288 with 1 Axes>"
      ]
     },
     "metadata": {
      "needs_background": "light"
     },
     "output_type": "display_data"
    }
   ],
   "source": [
    "import numpy as np\n",
    "import matplotlib.pyplot as plt\n",
    "\n",
    "x=np.arange(0,3*np.pi,0.1)\n",
    "y=np.sin(x)\n",
    "\n",
    "plt.plot(x,y)\n",
    "plt.show()"
   ]
  },
  {
   "cell_type": "code",
   "execution_count": 66,
   "metadata": {},
   "outputs": [
    {
     "data": {
      "image/png": "[encoded data removed]",
      "text/plain": [
       "<Figure size 432x288 with 1 Axes>"
      ]
     },
     "metadata": {
      "needs_background": "light"
     },
     "output_type": "display_data"
    }
   ],
   "source": [
    "x=np.arange(0,3*np.pi,0.1)\n",
    "y_sin=np.sin(x)\n",
    "y_cos=np.cos(x)\n",
    "\n",
    "plt.plot(x,y_sin)\n",
    "plt.plot(x,y_cos)\n",
    "plt.xlabel('x axis label')\n",
    "plt.ylabel('y axis label')\n",
    "plt.title('Sine and cosine')\n",
    "plt.legend(['sine', 'cosine'])\n",
    "plt.show()"
   ]
  },
  {
   "cell_type": "code",
   "execution_count": 69,
   "metadata": {},
   "outputs": [
    {
     "data": {
      "image/png": "[encoded data removed]",
      "text/plain": [
       "<Figure size 432x288 with 2 Axes>"
      ]
     },
     "metadata": {
      "needs_background": "light"
     },
     "output_type": "display_data"
    }
   ],
   "source": [
    "x=np.arange(0,3*np.pi,0.1)\n",
    "y_sin=np.sin(x)\n",
    "y_cos=np.cos(x)\n",
    "plt.subplot(2,1,1)\n",
    "plt.plot(x,y_sin)\n",
    "plt.title('Sine')\n",
    "plt.xlabel('x axis label')\n",
    "plt.ylabel('y axis label')\n",
    "plt.subplot(2,1,2)\n",
    "plt.plot(x,y_cos)\n",
    "plt.title('Cosine')\n",
    "plt.xlabel('x axis label')\n",
    "plt.ylabel('y axis label')\n",
    "plt.show()\n",
    "#plt.legend(['sine', 'cosine'])"
   ]
  }
 ],
 "metadata": {
  "kernelspec": {
   "display_name": "Python 3",
   "language": "python",
   "name": "python3"
  },
  "language_info": {
   "codemirror_mode": {
    "name": "ipython",
    "version": 3
   },
   "file_extension": ".py",
   "mimetype": "text/x-python",
   "name": "python",
   "nbconvert_exporter": "python",
   "pygments_lexer": "ipython3",
   "version": "3.7.1"
  }
 },
 "nbformat": 4,
 "nbformat_minor": 2
}
